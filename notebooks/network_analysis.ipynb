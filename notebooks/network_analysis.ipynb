{
 "cells": [
  {
   "cell_type": "code",
   "execution_count": null,
   "id": "81dfe20d-0884-45d7-95c8-bb84dbe87b2e",
   "metadata": {},
   "outputs": [],
   "source": [
    "import networkx as nx\n",
    "import numpy as np\n",
    "import matplotlib.pyplot as plt\n",
    "\n",
    "%matplotlib inline"
   ]
  },
  {
   "cell_type": "code",
   "execution_count": null,
   "id": "a5c39e32-b95b-4755-b9b3-c9d60bd003f8",
   "metadata": {},
   "outputs": [],
   "source": [
    "S = 25\n",
    "alpha = 0.25\n",
    "beta = 1.0\n",
    "C = 0.15\n",
    "T = 100\n",
    "arrival_type = \"sigmoid\"\n",
    "departure_type = \"sigmoid\""
   ]
  },
  {
   "cell_type": "code",
   "execution_count": null,
   "id": "567beb8d-f534-4eff-8c65-5eb255e6856d",
   "metadata": {},
   "outputs": [],
   "source": [
    "filename = f\"S-{S}_alpha-{alpha}_beta-{beta}_C-{C}_T-{T}_{arrival_type}_{departure_type}\"\n",
    "adjacency_matrices = np.load(f\"../results/{filename}_temporal_adjacencies.npy\")"
   ]
  },
  {
   "cell_type": "code",
   "execution_count": null,
   "id": "33011b8c-4da4-4c8d-b627-363ff6efb112",
   "metadata": {},
   "outputs": [],
   "source": [
    "adjacency_matrices.shape"
   ]
  },
  {
   "cell_type": "code",
   "execution_count": null,
   "id": "18ea06d6-4cb8-4393-ab01-4a37c37f2220",
   "metadata": {},
   "outputs": [],
   "source": [
    "node_activity_intervals = dict()\n",
    "for t in range(adjacency_matrices.shape[0]):\n",
    "    adj = adjacency_matrices[t]\n",
    "    G = nx.from_numpy_array(adj)\n",
    "    active_node_degrees = []\n",
    "    active_nodes = []\n",
    "    for u in G:\n",
    "        if G.degree(u) > 0:\n",
    "            active_nodes.append(u)\n",
    "            active_node_degrees.append(G.degree(u))\n",
    "    for u in active_nodes:\n",
    "        if u not in node_activity_intervals:\n",
    "            node_activity_intervals[u] = [t+1, t+1]\n",
    "        else:\n",
    "            node_activity_intervals[u][1] += 1\n",
    "\n",
    "    if len(active_node_degrees) > 0:\n",
    "        print(len(active_nodes),\n",
    "              G.number_of_edges(),\n",
    "              min(active_node_degrees),\n",
    "              np.mean(active_node_degrees),\n",
    "              max(active_node_degrees))\n",
    "    else:\n",
    "        print(len(active_nodes),\n",
    "              G.number_of_edges(), 0, 0, 0)"
   ]
  },
  {
   "cell_type": "code",
   "execution_count": null,
   "id": "c3058119-1fd6-4192-9237-c1f4954abca5",
   "metadata": {},
   "outputs": [],
   "source": [
    "filename = f\"S-{S}_alpha-{alpha}_beta-{beta}_C-{C}_T-{T}_{arrival_type}_{departure_type}\"\n",
    "for arrival_type in [\"uniform\", \"exponential\", \"sigmoid\"]:\n",
    "    for departure_type in [\"uniform\", \"exponential\", \"sigmoid\"]:\n",
    "        plt.figure()\n",
    "        filename = f\"S-{S}_alpha-{alpha}_beta-{beta}_C-{C}_T-{T}_{arrival_type}_{departure_type}\"\n",
    "        species_mass = np.load(f\"../results/{filename}_species_mass.npy\")\n",
    "        node_activities = np.load(f\"../results/{filename}_node_activities.npy\")\n",
    "        for i in np.argsort(species_mass)[::-1]:\n",
    "            nonz = np.nonzero(node_activities[:, i])[0]\n",
    "            if nonz.shape[0] > 0:\n",
    "                plt.plot((nonz.min(), nonz.max()), [i]*2, c=\"black\", alpha=0.6)\n",
    "            else:\n",
    "                plt.plot((0, T), [i]*2, c=\"black\", ls=\"--\", alpha=0.1)\n",
    "        plt.title(arrival_type + \", \" + departure_type)\n",
    "        plt.xlim(0, T)\n",
    "        plt.ylim(-0.5, 25)\n",
    "        plt.xlabel(\"Time\")\n",
    "        plt.ylabel(\"Species\")\n",
    "        plt.tight_layout()\n",
    "        plt.savefig(f\"../results/plots/{filename}_intervals.png\", dpi=150, facecolor=None)"
   ]
  },
  {
   "cell_type": "code",
   "execution_count": null,
   "id": "4b7a39fa-e965-430a-a7a9-c5c48d6fae83",
   "metadata": {},
   "outputs": [],
   "source": [
    "filename = f\"S-{S}_alpha-{alpha}_beta-{beta}_C-{C}_T-{T}_{arrival_type}_{departure_type}\"\n",
    "for arrival_type in [\"uniform\", \"exponential\", \"sigmoid\"]:\n",
    "    for departure_type in [\"uniform\", \"exponential\", \"sigmoid\"]:\n",
    "        plt.figure()\n",
    "        filename = f\"S-{S}_alpha-{alpha}_beta-{beta}_C-{C}_T-{T}_{arrival_type}_{departure_type}\"\n",
    "        full_adj = np.load(f\"../results/{filename}_adj_matrix_full.npy\")\n",
    "        G = nx.from_numpy_array(full_adj)\n",
    "        maximum_degree = max([G.degree(u) for u in G])\n",
    "        total_edges = G.number_of_edges()\n",
    "        adjacency_matrices = np.load(f\"../results/{filename}_temporal_adjacencies.npy\")\n",
    "        node_activities = np.load(f\"../results/{filename}_node_activities.npy\")\n",
    "        mean_degrees = []\n",
    "        max_degrees = []\n",
    "        num_edges = []\n",
    "        for t in range(adjacency_matrices.shape[0]):\n",
    "            adj = adjacency_matrices[t]\n",
    "            G = nx.from_numpy_array(adj)\n",
    "            active_node_degrees = []\n",
    "            active_nodes = []\n",
    "            for u in G:\n",
    "                if node_activities[t, u] == 1:\n",
    "                    active_nodes.append(u)\n",
    "                    active_node_degrees.append(G.degree(u))\n",
    "        \n",
    "            if len(active_node_degrees) > 0:\n",
    "                mean_degrees.append(np.mean(active_node_degrees) / maximum_degree)\n",
    "                max_degrees.append(np.max(active_node_degrees) / maximum_degree)\n",
    "                num_edges.append(G.number_of_edges() / total_edges)\n",
    "            \n",
    "        plt.title(arrival_type + \", \" + departure_type + f\" {total_edges} Edges, Max Degree: {maximum_degree}\")\n",
    "        plt.plot(list(range(len(mean_degrees))), mean_degrees, label=\"Mean Degree\")\n",
    "        plt.plot(list(range(len(max_degrees))), max_degrees, label=\"Max Degree\")\n",
    "        plt.plot(list(range(len(num_edges))), num_edges, label=\"Edges\")\n",
    "        plt.ylabel(\"Proportion of Full\")\n",
    "        plt.xlabel(\"Time\")\n",
    "        plt.legend()\n",
    "        plt.tight_layout()\n",
    "        plt.savefig(f\"../results/plots/{filename}_degrees.png\", dpi=150, facecolor=None)"
   ]
  },
  {
   "cell_type": "code",
   "execution_count": null,
   "id": "cb8264a0-c4c4-4e26-bba4-c25698733328",
   "metadata": {},
   "outputs": [],
   "source": []
  },
  {
   "cell_type": "code",
   "execution_count": null,
   "id": "cd71a2c4-20a9-4178-aaa1-d08176e040a4",
   "metadata": {},
   "outputs": [],
   "source": []
  }
 ],
 "metadata": {
  "kernelspec": {
   "display_name": "Python 3 (ipykernel)",
   "language": "python",
   "name": "python3"
  },
  "language_info": {
   "codemirror_mode": {
    "name": "ipython",
    "version": 3
   },
   "file_extension": ".py",
   "mimetype": "text/x-python",
   "name": "python",
   "nbconvert_exporter": "python",
   "pygments_lexer": "ipython3",
   "version": "3.10.13"
  }
 },
 "nbformat": 4,
 "nbformat_minor": 5
}
