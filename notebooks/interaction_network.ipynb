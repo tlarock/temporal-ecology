{
 "cells": [
  {
   "cell_type": "code",
   "execution_count": null,
   "id": "1ac2448c-10f3-4c2b-9e4f-da25ed3a3a1b",
   "metadata": {},
   "outputs": [],
   "source": [
    "import numpy as np\n",
    "import networkx as nx\n",
    "import matplotlib.pyplot as plt\n",
    "import sys\n",
    "sys.path.append(\"../python/\")\n",
    "from interaction_network import *\n",
    "%matplotlib inline"
   ]
  },
  {
   "cell_type": "code",
   "execution_count": null,
   "id": "12e723a1-2efc-46ea-9123-225d61719d1d",
   "metadata": {},
   "outputs": [],
   "source": [
    "num_species = 25\n",
    "alpha = 0.25\n",
    "beta = 1.0\n",
    "species_mass = get_species_mass(num_species, alpha, beta)\n",
    "plt.hist(species_mass)"
   ]
  },
  {
   "cell_type": "code",
   "execution_count": null,
   "id": "67d3ff54-15de-4f64-821a-50df6e0462da",
   "metadata": {},
   "outputs": [],
   "source": [
    "arrival_mu = 0.25\n",
    "arrival_var = 0.05\n",
    "interval_mu = 0.1\n",
    "interval_var = 0.05\n",
    "intervals = get_intervals(num_species, arrival_mu, arrival_var, interval_mu, interval_var)\n",
    "overlaps = compute_overlaps(intervals)"
   ]
  },
  {
   "cell_type": "code",
   "execution_count": null,
   "id": "dc5c4928-a6a3-4d4c-8e7d-7b6bcd09a265",
   "metadata": {},
   "outputs": [],
   "source": [
    "for i in range(intervals.shape[1]):\n",
    "    plt.plot(intervals[:,i], [i]*2)"
   ]
  },
  {
   "cell_type": "code",
   "execution_count": null,
   "id": "9a990e64-723e-4d60-a8af-7d910f4867a9",
   "metadata": {
    "scrolled": true
   },
   "outputs": [],
   "source": [
    "C = 0.1\n",
    "interaction_graph = generate_interactions(species_mass, intervals, C)"
   ]
  },
  {
   "cell_type": "code",
   "execution_count": null,
   "id": "b69a8b40-bc6c-4277-b2b1-a08299459592",
   "metadata": {},
   "outputs": [],
   "source": [
    "nx.transitivity(interaction_graph)"
   ]
  },
  {
   "cell_type": "code",
   "execution_count": null,
   "id": "3ba9b99e-022d-4a54-88d8-ee7de3993e45",
   "metadata": {},
   "outputs": [],
   "source": [
    "edge_weights = [edat[\"weight\"]*2 for _,_,edat in interaction_graph.edges(data=True)]\n",
    "nx.draw(interaction_graph, width=edge_weights)"
   ]
  },
  {
   "cell_type": "code",
   "execution_count": null,
   "id": "e5dc5a48-0cfa-4a74-a94b-a3612035d1e2",
   "metadata": {},
   "outputs": [],
   "source": []
  },
  {
   "cell_type": "code",
   "execution_count": null,
   "id": "d940be97-1e75-4bdf-85a6-1450b67a1b2b",
   "metadata": {},
   "outputs": [],
   "source": []
  }
 ],
 "metadata": {
  "kernelspec": {
   "display_name": "Python 3 (ipykernel)",
   "language": "python",
   "name": "python3"
  },
  "language_info": {
   "codemirror_mode": {
    "name": "ipython",
    "version": 3
   },
   "file_extension": ".py",
   "mimetype": "text/x-python",
   "name": "python",
   "nbconvert_exporter": "python",
   "pygments_lexer": "ipython3",
   "version": "3.10.13"
  }
 },
 "nbformat": 4,
 "nbformat_minor": 5
}
